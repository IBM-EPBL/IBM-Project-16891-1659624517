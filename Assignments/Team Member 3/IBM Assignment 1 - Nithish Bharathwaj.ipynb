{
  "nbformat": 4,
  "nbformat_minor": 0,
  "metadata": {
    "colab": {
      "provenance": [],
      "collapsed_sections": []
    },
    "kernelspec": {
      "name": "python3",
      "display_name": "Python 3"
    },
    "language_info": {
      "name": "python"
    }
  },
  "cells": [
    {
      "cell_type": "markdown",
      "source": [
        "***NITHISH BHARATHWAJ K R***\n",
        "\n",
        "***Team ID - PNT2022TMID53102***"
      ],
      "metadata": {
        "id": "RhraLZ4oGYL3"
      }
    },
    {
      "cell_type": "markdown",
      "source": [
        "**Consider a list (list = []).** \n",
        "\n",
        "**You can perform the following commands:**\n",
        "\n",
        "* **insert i e: Insert integer at position.** \n",
        "* **print: Print the list.**\n",
        "* **remove e: Delete the first occurrence of integer.**\n",
        "* **append e: Insert integer at the end of the list.** \n",
        "* **sort: Sort the list.**\n",
        "* **pop: Pop the last element from the list.**\n",
        "* **reverse: Reverse the list.**\n",
        "\n",
        "**Initialize your list and read in the value followed by lines of commands\n",
        "where each command will be of the types listed above. Iterate through each\n",
        "command in order and perform the corresponding operation on your list.**"
      ],
      "metadata": {
        "id": "E3QlSuFbE_bp"
      }
    },
    {
      "cell_type": "code",
      "execution_count": 4,
      "metadata": {
        "colab": {
          "base_uri": "https://localhost:8080/"
        },
        "id": "ZTQhzNOg78U0",
        "outputId": "d6116cf9-bffb-4eb0-9fd8-6e668dc6ddf7"
      },
      "outputs": [
        {
          "output_type": "stream",
          "name": "stdout",
          "text": [
            "21\n",
            "insert 0 7\n",
            "insert 1 4\n",
            "insert 2 8\n",
            "insert 3 6\n",
            "print\n",
            "remove 8\n",
            "remove 4\n",
            "print\n",
            "append 3\n",
            "append 12\n",
            "print\n",
            "sort\n",
            "print\n",
            "reverse\n",
            "print\n",
            "pop\n",
            "pop\n",
            "print\n",
            "append 1\n",
            "append 15\n",
            "print\n",
            "[7, 4, 8, 6]\n",
            "[7, 6]\n",
            "[7, 6, 3, 12]\n",
            "[3, 6, 7, 12]\n",
            "[12, 7, 6, 3]\n",
            "[12, 7]\n",
            "[12, 7, 1, 15]\n"
          ]
        }
      ],
      "source": [
        "N = int(input())\n",
        "lists = []\n",
        "for i in range(N):\n",
        "  a = list(map(str,input().split( )))\n",
        "  lists.append(a)\n",
        "arr = []\n",
        "for x in lists:\n",
        "  if x[0] == \"insert\":\n",
        "    i = int(x[1])\n",
        "    e = int(x[2])\n",
        "    arr.insert(i,e)\n",
        "  elif x[0] == \"print\":\n",
        "    print(arr)\n",
        "  elif x[0] == \"remove\":\n",
        "    e = int(x[1])\n",
        "    arr.remove(e)\n",
        "  elif x[0] == \"append\":\n",
        "    e = int(x[1])\n",
        "    arr.append(e)\n",
        "  elif x[0] == \"sort\":\n",
        "    arr.sort()\n",
        "  elif x[0] == \"pop\":\n",
        "    arr.pop()\n",
        "  elif x[0] == \"reverse\":\n",
        "    arr.reverse()"
      ]
    },
    {
      "cell_type": "markdown",
      "source": [
        "**Write a Calculator Program in Python.**"
      ],
      "metadata": {
        "id": "o1AkHDXzF1QZ"
      }
    },
    {
      "cell_type": "code",
      "source": [
        "def add(P, Q):\n",
        " return P + Q\n",
        "def subtract(P, Q):\n",
        " return P - Q\n",
        "def multiply(P, Q):\n",
        " return P * Q\n",
        "def divide(P, Q):\n",
        " return P / Q\n",
        "\n",
        "while(True):\n",
        "  print (\"Select the operation given below.\")\n",
        "  print (\"1. Add\")\n",
        "  print (\"2. Subtract\")\n",
        "  print (\"3. Multiply\")\n",
        "  print (\"4. Divide\")\n",
        "  print (\"5. Quit\")\n",
        "  choice = input(\"Enter the operation: \")\n",
        "  if(choice == '5'):\n",
        "    break\n",
        "  num_1 = int (input (\"Enter First number: \"))\n",
        "  num_2 = int (input (\"Enter the second number: \"))\n",
        "  if choice == '1':\n",
        "    print (num_1, \" + \", num_2, \" = \", add(num_1, num_2))\n",
        "  elif choice == '2':\n",
        "    print (num_1, \" - \", num_2, \" = \", subtract(num_1, num_2))\n",
        "  elif choice == '3':\n",
        "    print (num_1, \" * \", num_2, \" = \", multiply(num_1, num_2))\n",
        "  elif choice == '4':\n",
        "    print (num_1, \" / \", num_2, \" = \", divide(num_1, num_2))\n"
      ],
      "metadata": {
        "colab": {
          "base_uri": "https://localhost:8080/"
        },
        "id": "vyeN3JtXAyzK",
        "outputId": "c5c0c2d2-cb98-4549-e5d2-6d6c8b6e3be4"
      },
      "execution_count": 9,
      "outputs": [
        {
          "name": "stdout",
          "output_type": "stream",
          "text": [
            "Select the operation given below.\n",
            "1. Add\n",
            "2. Subtract\n",
            "3. Multiply\n",
            "4. Divide\n",
            "5. Quit\n",
            "Enter the operation: 1\n",
            "Enter First number: 4\n",
            "Enter the second number: 6\n",
            "4  +  6  =  10\n",
            "Select the operation given below.\n",
            "1. Add\n",
            "2. Subtract\n",
            "3. Multiply\n",
            "4. Divide\n",
            "5. Quit\n",
            "Enter the operation: 2\n",
            "Enter First number: 8\n",
            "Enter the second number: 5\n",
            "8  -  5  =  3\n",
            "Select the operation given below.\n",
            "1. Add\n",
            "2. Subtract\n",
            "3. Multiply\n",
            "4. Divide\n",
            "5. Quit\n",
            "Enter the operation: 3\n",
            "Enter First number: 7\n",
            "Enter the second number: 2\n",
            "7  *  2  =  14\n",
            "Select the operation given below.\n",
            "1. Add\n",
            "2. Subtract\n",
            "3. Multiply\n",
            "4. Divide\n",
            "5. Quit\n",
            "Enter the operation: 4\n",
            "Enter First number: 8\n",
            "Enter the second number: 2\n",
            "8  /  2  =  4.0\n",
            "Select the operation given below.\n",
            "1. Add\n",
            "2. Subtract\n",
            "3. Multiply\n",
            "4. Divide\n",
            "5. Quit\n",
            "Enter the operation: 5\n"
          ]
        }
      ]
    },
    {
      "cell_type": "markdown",
      "source": [
        "**Concatenate 2 strings.**"
      ],
      "metadata": {
        "id": "j3VzgqpiF8qy"
      }
    },
    {
      "cell_type": "code",
      "source": [
        "s1 = \"Hello \"\n",
        "s2 = \"World\"\n",
        "print(s1 + s2)"
      ],
      "metadata": {
        "colab": {
          "base_uri": "https://localhost:8080/"
        },
        "id": "D6XXZAgLDlSa",
        "outputId": "a2d72a4b-45bd-42cd-a159-dce925c4fa9e"
      },
      "execution_count": 10,
      "outputs": [
        {
          "output_type": "stream",
          "name": "stdout",
          "text": [
            "Hello World\n"
          ]
        }
      ]
    },
    {
      "cell_type": "markdown",
      "source": [
        "**Reverse a string.**"
      ],
      "metadata": {
        "id": "LY5MuA9uGAFy"
      }
    },
    {
      "cell_type": "code",
      "source": [
        "s1 = \"Hello World\"\n",
        "s1 = s1[::-1]\n",
        "print(s1)"
      ],
      "metadata": {
        "colab": {
          "base_uri": "https://localhost:8080/"
        },
        "id": "rwyQ_kXdDw-1",
        "outputId": "da288927-1e01-40ee-9f3f-328fd06e79e6"
      },
      "execution_count": 11,
      "outputs": [
        {
          "output_type": "stream",
          "name": "stdout",
          "text": [
            "dlroW olleH\n"
          ]
        }
      ]
    },
    {
      "cell_type": "markdown",
      "source": [
        "**Slice a string.**"
      ],
      "metadata": {
        "id": "V3xsZtUqGDKj"
      }
    },
    {
      "cell_type": "code",
      "source": [
        "s1 = \"Hello World\"\n",
        "print(s1[4:10])"
      ],
      "metadata": {
        "colab": {
          "base_uri": "https://localhost:8080/"
        },
        "id": "qQrcaTI3D7v2",
        "outputId": "a933917b-baf8-47e3-8a5d-a86ec080298e"
      },
      "execution_count": 14,
      "outputs": [
        {
          "output_type": "stream",
          "name": "stdout",
          "text": [
            "o Worl\n"
          ]
        }
      ]
    },
    {
      "cell_type": "markdown",
      "source": [
        "**Why is Python a popular programming language?**\n",
        "\n",
        "* It has simplified syntax and not complicated, which gives more emphasis on natural\n",
        "language.\n",
        "* Python is a scripted, object oriented and interpreted language.\n",
        "* It can be used for web development, app development, and data visualization.\n",
        "* It is also used in fields of Machine Learning and Artificial Intelligence."
      ],
      "metadata": {
        "id": "YD6K66EMElM_"
      }
    },
    {
      "cell_type": "markdown",
      "source": [
        "**What are the other Frameworks that can be used with python?**\n",
        "* Django\n",
        "* Web2Py\n",
        "* Flask\n",
        "* Bottle\n",
        "* Gork\n",
        "* CherryPy"
      ],
      "metadata": {
        "id": "1MOrF2PnEwJf"
      }
    },
    {
      "cell_type": "markdown",
      "source": [
        "**Full form of WSGI?**\n",
        "\n",
        "The Web Server Gateway Interface."
      ],
      "metadata": {
        "id": "LjWfOJ2UE40h"
      }
    }
  ]
}